{
 "cells": [
  {
   "cell_type": "markdown",
   "metadata": {},
   "source": [
    "Data for Farmers Markets from USDA has over 8000 observations, so here we use Python/Pandas to select the data for NYC (the 5 boroughs) on which the pilot project will be implemented. "
   ]
  },
  {
   "cell_type": "code",
   "execution_count": 7,
   "metadata": {},
   "outputs": [],
   "source": [
    "import pandas as pd "
   ]
  },
  {
   "cell_type": "code",
   "execution_count": 8,
   "metadata": {},
   "outputs": [],
   "source": [
    "df = pd.read_csv('farmers_markets_from_usda.csv')"
   ]
  },
  {
   "cell_type": "code",
   "execution_count": 9,
   "metadata": {
    "scrolled": true
   },
   "outputs": [
    {
     "data": {
      "text/html": [
       "<div>\n",
       "<style scoped>\n",
       "    .dataframe tbody tr th:only-of-type {\n",
       "        vertical-align: middle;\n",
       "    }\n",
       "\n",
       "    .dataframe tbody tr th {\n",
       "        vertical-align: top;\n",
       "    }\n",
       "\n",
       "    .dataframe thead th {\n",
       "        text-align: right;\n",
       "    }\n",
       "</style>\n",
       "<table border=\"1\" class=\"dataframe\">\n",
       "  <thead>\n",
       "    <tr style=\"text-align: right;\">\n",
       "      <th></th>\n",
       "      <th>FMID</th>\n",
       "      <th>MarketName</th>\n",
       "      <th>Website</th>\n",
       "      <th>Facebook</th>\n",
       "      <th>Twitter</th>\n",
       "      <th>Youtube</th>\n",
       "      <th>OtherMedia</th>\n",
       "      <th>street</th>\n",
       "      <th>city</th>\n",
       "      <th>County</th>\n",
       "      <th>...</th>\n",
       "      <th>Coffee</th>\n",
       "      <th>Beans</th>\n",
       "      <th>Fruits</th>\n",
       "      <th>Grains</th>\n",
       "      <th>Juices</th>\n",
       "      <th>Mushrooms</th>\n",
       "      <th>PetFood</th>\n",
       "      <th>Tofu</th>\n",
       "      <th>WildHarvested</th>\n",
       "      <th>updateTime</th>\n",
       "    </tr>\n",
       "  </thead>\n",
       "  <tbody>\n",
       "    <tr>\n",
       "      <th>0</th>\n",
       "      <td>1018261</td>\n",
       "      <td>Caledonia Farmers Market Association - Danville</td>\n",
       "      <td>https://sites.google.com/site/caledoniafarmers...</td>\n",
       "      <td>https://www.facebook.com/Danville.VT.Farmers.M...</td>\n",
       "      <td>NaN</td>\n",
       "      <td>NaN</td>\n",
       "      <td>NaN</td>\n",
       "      <td>NaN</td>\n",
       "      <td>Danville</td>\n",
       "      <td>Caledonia</td>\n",
       "      <td>...</td>\n",
       "      <td>Y</td>\n",
       "      <td>Y</td>\n",
       "      <td>Y</td>\n",
       "      <td>N</td>\n",
       "      <td>N</td>\n",
       "      <td>Y</td>\n",
       "      <td>Y</td>\n",
       "      <td>N</td>\n",
       "      <td>N</td>\n",
       "      <td>6/20/2017 22:43</td>\n",
       "    </tr>\n",
       "    <tr>\n",
       "      <th>1</th>\n",
       "      <td>1018318</td>\n",
       "      <td>Stearns Homestead Farmers' Market</td>\n",
       "      <td>http://www.StearnsHomestead.com</td>\n",
       "      <td>StearnsHomesteadFarmersMarket</td>\n",
       "      <td>NaN</td>\n",
       "      <td>NaN</td>\n",
       "      <td>NaN</td>\n",
       "      <td>6975 Ridge Road</td>\n",
       "      <td>Parma</td>\n",
       "      <td>Cuyahoga</td>\n",
       "      <td>...</td>\n",
       "      <td>N</td>\n",
       "      <td>N</td>\n",
       "      <td>Y</td>\n",
       "      <td>N</td>\n",
       "      <td>N</td>\n",
       "      <td>N</td>\n",
       "      <td>N</td>\n",
       "      <td>N</td>\n",
       "      <td>N</td>\n",
       "      <td>6/21/2017 17:15</td>\n",
       "    </tr>\n",
       "    <tr>\n",
       "      <th>2</th>\n",
       "      <td>1009364</td>\n",
       "      <td>106 S. Main Street Farmers Market</td>\n",
       "      <td>http://thetownofsixmile.wordpress.com/</td>\n",
       "      <td>NaN</td>\n",
       "      <td>NaN</td>\n",
       "      <td>NaN</td>\n",
       "      <td>NaN</td>\n",
       "      <td>106 S. Main Street</td>\n",
       "      <td>Six Mile</td>\n",
       "      <td>Pickens</td>\n",
       "      <td>...</td>\n",
       "      <td>NaN</td>\n",
       "      <td>NaN</td>\n",
       "      <td>NaN</td>\n",
       "      <td>NaN</td>\n",
       "      <td>NaN</td>\n",
       "      <td>NaN</td>\n",
       "      <td>NaN</td>\n",
       "      <td>NaN</td>\n",
       "      <td>NaN</td>\n",
       "      <td>2013</td>\n",
       "    </tr>\n",
       "  </tbody>\n",
       "</table>\n",
       "<p>3 rows × 59 columns</p>\n",
       "</div>"
      ],
      "text/plain": [
       "      FMID                                        MarketName  \\\n",
       "0  1018261   Caledonia Farmers Market Association - Danville   \n",
       "1  1018318                 Stearns Homestead Farmers' Market   \n",
       "2  1009364                 106 S. Main Street Farmers Market   \n",
       "\n",
       "                                             Website  \\\n",
       "0  https://sites.google.com/site/caledoniafarmers...   \n",
       "1                    http://www.StearnsHomestead.com   \n",
       "2             http://thetownofsixmile.wordpress.com/   \n",
       "\n",
       "                                            Facebook Twitter Youtube  \\\n",
       "0  https://www.facebook.com/Danville.VT.Farmers.M...     NaN     NaN   \n",
       "1                      StearnsHomesteadFarmersMarket     NaN     NaN   \n",
       "2                                                NaN     NaN     NaN   \n",
       "\n",
       "  OtherMedia              street      city     County  ... Coffee Beans  \\\n",
       "0        NaN                 NaN  Danville  Caledonia  ...      Y     Y   \n",
       "1        NaN     6975 Ridge Road    Parma    Cuyahoga  ...      N     N   \n",
       "2        NaN  106 S. Main Street  Six Mile    Pickens  ...    NaN   NaN   \n",
       "\n",
       "  Fruits Grains Juices Mushrooms PetFood Tofu WildHarvested       updateTime  \n",
       "0      Y      N      N         Y       Y    N             N  6/20/2017 22:43  \n",
       "1      Y      N      N         N       N    N             N  6/21/2017 17:15  \n",
       "2    NaN    NaN    NaN       NaN     NaN  NaN           NaN             2013  \n",
       "\n",
       "[3 rows x 59 columns]"
      ]
     },
     "execution_count": 9,
     "metadata": {},
     "output_type": "execute_result"
    }
   ],
   "source": [
    "df.head(3)"
   ]
  },
  {
   "cell_type": "markdown",
   "metadata": {},
   "source": [
    "Let's get a df for all farmers markets in New York State. "
   ]
  },
  {
   "cell_type": "code",
   "execution_count": 10,
   "metadata": {},
   "outputs": [],
   "source": [
    "ny_df = df.loc[df.State == \"New York\"]"
   ]
  },
  {
   "cell_type": "markdown",
   "metadata": {},
   "source": [
    "Then we'll select the cities that are in the 5 boroughs. "
   ]
  },
  {
   "cell_type": "markdown",
   "metadata": {},
   "source": [
    "The data entry has two different values for Brooklyn & New York, so we'll select those as well. \\\n",
    "We don't want to miss the different data entries but also we don't want to include those city/county combos out of the 5 boroughs.  "
   ]
  },
  {
   "cell_type": "code",
   "execution_count": 11,
   "metadata": {},
   "outputs": [],
   "source": [
    "mask = (ny_df[\"city\"].str.contains(\"New York\"))| (ny_df[\"city\"].str.contains(\"Brooklyn\"))|\\\n",
    "            (ny_df.city.str.contains(\"Staten Island\")) |(ny_df.city.str.contains(\"Bronx\"))|\\\n",
    "            (ny_df.city.str.contains(\"Queens\"))"
   ]
  },
  {
   "cell_type": "code",
   "execution_count": 12,
   "metadata": {},
   "outputs": [],
   "source": [
    "nyc_df = ny_df.loc[mask]"
   ]
  },
  {
   "cell_type": "code",
   "execution_count": 13,
   "metadata": {},
   "outputs": [
    {
     "data": {
      "text/plain": [
       "(148, 59)"
      ]
     },
     "execution_count": 13,
     "metadata": {},
     "output_type": "execute_result"
    }
   ],
   "source": [
    "nyc_df.shape"
   ]
  },
  {
   "cell_type": "code",
   "execution_count": 14,
   "metadata": {},
   "outputs": [
    {
     "data": {
      "text/plain": [
       "array(['New York', 'Bronx', 'New York ', 'Brooklyn', 'Queens',\n",
       "       'Bronxville', 'New York City', 'Brooklyn, NY', 'Queensbury',\n",
       "       'Brooklyn ', 'The Bronx', 'Staten Island'], dtype=object)"
      ]
     },
     "execution_count": 14,
     "metadata": {},
     "output_type": "execute_result"
    }
   ],
   "source": [
    "nyc_df.city.unique()"
   ]
  },
  {
   "cell_type": "code",
   "execution_count": 15,
   "metadata": {},
   "outputs": [
    {
     "data": {
      "text/plain": [
       "array(['New York', 'Bronx', 'Kings', 'Queens', 'Nassau', 'Westchester',\n",
       "       'Chenango', 'Warren', 'Richmond'], dtype=object)"
      ]
     },
     "execution_count": 15,
     "metadata": {},
     "output_type": "execute_result"
    }
   ],
   "source": [
    "nyc_df.County.unique()"
   ]
  },
  {
   "cell_type": "code",
   "execution_count": 16,
   "metadata": {},
   "outputs": [
    {
     "name": "stderr",
     "output_type": "stream",
     "text": [
      "<ipython-input-16-131ad3af0d01>:1: UserWarning: Boolean Series key will be reindexed to match DataFrame index.\n",
      "  nyc_df = nyc_df[(nyc_df.County == \"New York\") | (ny_df.County == \"Kings\")| (ny_df.County == \"Richmond\") \\\n"
     ]
    }
   ],
   "source": [
    "nyc_df = nyc_df[(nyc_df.County == \"New York\") | (ny_df.County == \"Kings\")| (ny_df.County == \"Richmond\") \\\n",
    "            |(ny_df.County ==  \"Bronx\") |(ny_df.County == \"Queens\")]"
   ]
  },
  {
   "cell_type": "code",
   "execution_count": 17,
   "metadata": {},
   "outputs": [
    {
     "data": {
      "text/plain": [
       "(143, 59)"
      ]
     },
     "execution_count": 17,
     "metadata": {},
     "output_type": "execute_result"
    }
   ],
   "source": [
    "nyc_df.shape"
   ]
  },
  {
   "cell_type": "markdown",
   "metadata": {},
   "source": [
    "Let's get both the NY State and NYC datafiles saved so that we can do further work in Excel/ Google Sheets. "
   ]
  },
  {
   "cell_type": "code",
   "execution_count": 18,
   "metadata": {},
   "outputs": [],
   "source": [
    "nyc_df.to_csv(\"nyc_farmers_market.csv\", index=False)"
   ]
  },
  {
   "cell_type": "code",
   "execution_count": 19,
   "metadata": {},
   "outputs": [],
   "source": [
    "ny_df.to_csv(\"ny_farmers_market.csv\", index=False)"
   ]
  },
  {
   "cell_type": "code",
   "execution_count": null,
   "metadata": {},
   "outputs": [],
   "source": []
  },
  {
   "cell_type": "code",
   "execution_count": null,
   "metadata": {},
   "outputs": [],
   "source": []
  },
  {
   "cell_type": "code",
   "execution_count": null,
   "metadata": {},
   "outputs": [],
   "source": []
  }
 ],
 "metadata": {
  "kernelspec": {
   "display_name": "Python 3",
   "language": "python",
   "name": "python3"
  },
  "language_info": {
   "codemirror_mode": {
    "name": "ipython",
    "version": 3
   },
   "file_extension": ".py",
   "mimetype": "text/x-python",
   "name": "python",
   "nbconvert_exporter": "python",
   "pygments_lexer": "ipython3",
   "version": "3.8.5"
  }
 },
 "nbformat": 4,
 "nbformat_minor": 4
}
